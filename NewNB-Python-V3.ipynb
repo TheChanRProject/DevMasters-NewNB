{
 "cells": [
  {
   "cell_type": "markdown",
   "metadata": {},
   "source": [
    "# DevMasters Hands-On Workshop "
   ]
  },
  {
   "cell_type": "markdown",
   "metadata": {},
   "source": [
    "## Outline:\n",
    "\n",
    "- ###  What is the DevMasters? \n",
    "\n",
    "- ###  What is Data Science? \n",
    "\n",
    "- ###  What is CRISP-DM? \n",
    "\n",
    "- ###  Exploratory Data Analysis in Python \n",
    "\n",
    "- ###  Introduction to Machine Learning \n",
    "\n",
    "- ###  Predicting Height from a Given Weight with Simple Linear Regression \n",
    "\n",
    "- ###  Linear Regression in statsmodels and scikit-learn\n",
    "\n",
    "- ###  Model Performance \n",
    "\n",
    "- ###  Future Workshop Topics \n",
    "\n",
    "- ###  Join the DevMasters for Your Future Data Science Career to Skyrocket"
   ]
  },
  {
   "cell_type": "markdown",
   "metadata": {},
   "source": [
    "## What is the DevMasters? "
   ]
  },
  {
   "cell_type": "markdown",
   "metadata": {},
   "source": [
    "The DevMasters is an artificial intelligence company that is based in Irvine and El Segundo. The company consults with clients to bring the power of AI and data analytics to their needs and preferences. Particularly specializing in recommender systems and natural language processing, many companies and firms trust DevMasters to get the job done. DevMasters also provides professional bootcamps to democratize Data Science education and help people become professional data scientists in the industry. "
   ]
  },
  {
   "cell_type": "code",
   "execution_count": 3,
   "metadata": {},
   "outputs": [
    {
     "data": {
      "text/html": [
       "\n",
       "        <iframe\n",
       "            width=\"800\"\n",
       "            height=\"400\"\n",
       "            src=\"https://www.thedevmasters.com\"\n",
       "            frameborder=\"0\"\n",
       "            allowfullscreen\n",
       "        ></iframe>\n",
       "        "
      ],
      "text/plain": [
       "<IPython.lib.display.IFrame at 0x111cbe400>"
      ]
     },
     "metadata": {},
     "output_type": "display_data"
    }
   ],
   "source": [
    "from IPython.core.display import display, HTML, Image\n",
    "from IPython.display import IFrame \n",
    "\n",
    "display(IFrame(src='https://www.thedevmasters.com', width=800, height=400)) "
   ]
  },
  {
   "cell_type": "markdown",
   "metadata": {},
   "source": [
    "## What is Data Science? "
   ]
  },
  {
   "cell_type": "markdown",
   "metadata": {},
   "source": [
    "Data Science is an interdisciplinary field about processes and systems to extract knowledge or insights from data in various forms, either structured or unstructured, which is a continuation of some of the data analysis fields such as statistics, data mining, and predictive analytics.\n",
    "\n",
    " \n",
    "\n",
    "Data science utilizes data preparation, statistics, predictive modeling and machine learning to investigate problems in various domains such as agriculture, marketing optimization, fraud detection, risk management, marketing analytics, public policy, etc. It emphasizes the use of general methods such as machine learning that apply without changes to multiple domains.   Machine learning is the result of good data science. \n",
    "\n",
    "Content from https://blog.thedevmasters.com/4-essential-skills-to-become-data-scientist "
   ]
  },
  {
   "cell_type": "code",
   "execution_count": null,
   "metadata": {},
   "outputs": [],
   "source": [
    "display(Image())"
   ]
  }
 ],
 "metadata": {
  "kernelspec": {
   "display_name": "Python 3",
   "language": "python",
   "name": "python3"
  },
  "language_info": {
   "codemirror_mode": {
    "name": "ipython",
    "version": 3
   },
   "file_extension": ".py",
   "mimetype": "text/x-python",
   "name": "python",
   "nbconvert_exporter": "python",
   "pygments_lexer": "ipython3",
   "version": "3.6.4"
  },
  "latex_envs": {
   "LaTeX_envs_menu_present": true,
   "autoclose": false,
   "autocomplete": true,
   "bibliofile": "biblio.bib",
   "cite_by": "apalike",
   "current_citInitial": 1,
   "eqLabelWithNumbers": true,
   "eqNumInitial": 1,
   "hotkeys": {
    "equation": "Ctrl-E",
    "itemize": "Ctrl-I"
   },
   "labels_anchors": false,
   "latex_user_defs": false,
   "report_style_numbering": false,
   "user_envs_cfg": false
  },
  "nbTranslate": {
   "displayLangs": [
    "*"
   ],
   "hotkey": "alt-t",
   "langInMainMenu": true,
   "sourceLang": "en",
   "targetLang": "fr",
   "useGoogleTranslate": true
  },
  "toc": {
   "base_numbering": 1,
   "nav_menu": {},
   "number_sections": true,
   "sideBar": true,
   "skip_h1_title": false,
   "title_cell": "Table of Contents",
   "title_sidebar": "Contents",
   "toc_cell": false,
   "toc_position": {},
   "toc_section_display": true,
   "toc_window_display": false
  }
 },
 "nbformat": 4,
 "nbformat_minor": 2
}
